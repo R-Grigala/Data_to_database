{
 "cells": [
  {
   "cell_type": "code",
   "execution_count": 5,
   "metadata": {},
   "outputs": [],
   "source": [
    "import pandas as pd\n",
    "import re\n",
    "import csv"
   ]
  },
  {
   "cell_type": "code",
   "execution_count": 6,
   "metadata": {},
   "outputs": [],
   "source": [
    "# Read the file (test.txt)\n",
    "with open('199207_copy', 'r') as file:\n",
    "    lines = file.readlines()"
   ]
  },
  {
   "cell_type": "code",
   "execution_count": 7,
   "metadata": {},
   "outputs": [],
   "source": [
    "# Function to parse the data from the file\n",
    "def parse_data_from_file(filename):\n",
    "    parsed_data = []\n",
    "    \n",
    "    with open(filename, 'r') as file:\n",
    "        # Read the file line by line\n",
    "        reader = csv.reader(file)\n",
    "        \n",
    "        for row in reader:\n",
    "            # Skip empty rows or rows that are entirely commas\n",
    "            if not any(row):\n",
    "                continue\n",
    "            \n",
    "            # Remove extra spaces from the data\n",
    "            row = [field.strip() for field in row]\n",
    "            \n",
    "            # Handle different formats depending on row length\n",
    "            if len(row) == 22:  # Case with 22 columns (or modify based on your data structure)\n",
    "                parsed_data.append({\n",
    "                    'Date': row[0],\n",
    "                    'St': row[1],\n",
    "                    'P_Fa': row[2],\n",
    "                    'P_Time': row[3],\n",
    "                    'SFa': row[4],\n",
    "                    'S_Time': row[5],\n",
    "                    'S_P': row[6],\n",
    "                    'Sour_T': row[7],\n",
    "                    'EpH': row[8],\n",
    "                    'EpR': row[9],\n",
    "                    'T_p': row[10],\n",
    "                    'T_s': row[11],\n",
    "                    'T_S': row[12],\n",
    "                    'Ns_1': row[13],\n",
    "                    'Ns_2': row[14],\n",
    "                    'Ew_1': row[15],\n",
    "                    'Ew_2': row[16],\n",
    "                    'Z': row[17],\n",
    "                    'K': row[18],\n",
    "                    'Mpv': row[19],\n",
    "                    'MLH': row[20],\n",
    "                    'Comment': row[21]\n",
    "                })\n",
    "            elif len(row) == 1 and 'F=' in row[0]:  # Handle metadata lines like 'F=44 25=44.42N'\n",
    "                parsed_data.append({'Metadata': row[0]})\n",
    "            else:\n",
    "                # Handle any other unexpected row formats here\n",
    "                pass\n",
    "    \n",
    "    return parsed_data"
   ]
  },
  {
   "cell_type": "code",
   "execution_count": 8,
   "metadata": {},
   "outputs": [
    {
     "name": "stdout",
     "output_type": "stream",
     "text": [
      "{'Date': 'Data', 'St': 'St', 'P_Fa': 'P_Fa', 'P_Time': 'P_Time', 'SFa': 'SFa', 'S_Time': 'S_Time', 'S_P': 'S- P', 'Sour_T': 'Sour_T', 'EpH': 'EpH', 'EpR': 'EpR', 'T_p': 'T_p', 'T_s': 'T s', 'T_S': 'T_S', 'Ns_1': 'Ns', 'Ns_2': 'Ns', 'Ew_1': 'Ew', 'Ew_2': 'Ew', 'Z': 'Z', 'K': 'K', 'Mpv': 'Mpv', 'MLH': 'MLH', 'Comment': 'Comment'}\n",
      "{'Date': '01.07.92', 'St': 'MTI', 'P_Fa': 'ep-', 'P_Time': '05:50:40.0', 'SFa': 'is-', 'S_Time': '50:59.0', 'S_P': '19.0', 'Sour_T': '50:12.9', 'EpH': '150', 'EpR': '150', 'T_p': '', 'T_s': '', 'T_S': '', 'Ns_1': '', 'Ns_2': '', 'Ew_1': '', 'Ew_2': '', 'Z': '', 'K': '', 'Mpv': '', 'MLH': '', 'Comment': ''}\n",
      "{'Date': '', 'St': 'ZEI', 'P_Fa': 'ip-', 'P_Time': '50:47.0', 'SFa': 'es-', 'S_Time': '51:12.0', 'S_P': '25.0', 'Sour_T': '50:11.0', 'EpH': '200', 'EpR': '200', 'T_p': '0.4', 'T_s': '', 'T_S': '', 'Ns_1': '', 'Ns_2': '', 'Ew_1': '', 'Ew_2': '', 'Z': '0.06', 'K': '', 'Mpv': '4.0', 'MLH': '', 'Comment': ''}\n",
      "{'Date': '', 'St': 'ONI', 'P_Fa': 'ep', 'P_Time': '50:47.4', 'SFa': 'is-', 'S_Time': '51:15.4', 'S_P': '28.0', 'Sour_T': '50:11.8', 'EpH': '207', 'EpR': '205', 'T_p': '', 'T_s': '0.8', 'T_S': '', 'Ns_1': '', 'Ns_2': '', 'Ew_1': '0.15', 'Ew_2': '', 'Z': '', 'K': '8.6', 'Mpv': '', 'MLH': '', 'Comment': ''}\n",
      "{'Date': '', 'St': 'BRO', 'P_Fa': 'ep', 'P_Time': '50:59.0', 'SFa': '', 'S_Time': '', 'S_P': '', 'Sour_T': '50:11.6', 'EpH': '275', 'EpR': '275', 'T_p': '', 'T_s': '', 'T_S': '', 'Ns_1': '', 'Ns_2': '', 'Ew_1': '', 'Ew_2': '', 'Z': '', 'K': '', 'Mpv': '', 'MLH': '', 'Comment': ''}\n",
      "{'Date': '', 'St': 'ABS', 'P_Fa': 'ep*', 'P_Time': '51:02.0', 'SFa': 'es-', 'S_Time': '51:40.0', 'S_P': '38.0', 'Sour_T': '50:12.7', 'EpH': '287', 'EpR': '285', 'T_p': '', 'T_s': '0.8', 'T_S': '', 'Ns_1': '', 'Ns_2': '', 'Ew_1': '0.02', 'Ew_2': '', 'Z': '', 'K': '7.3', 'Mpv': '', 'MLH': '', 'Comment': ''}\n",
      "{'Date': '', 'St': 'BKR', 'P_Fa': '+ip-', 'P_Time': '51:05.8', 'SFa': 'is-', 'S_Time': '51:42.8', 'S_P': '37.8', 'Sour_T': '50:11.8', 'EpH': '230', 'EpR': '300', 'T_p': '0.4', 'T_s': '1.0', 'T_S': '', 'Ns_1': '', 'Ns_2': '', 'Ew_1': '0.02', 'Ew_2': '', 'Z': '0.01', 'K': '7.8', 'Mpv': '3.6', 'MLH': '', 'Comment': ''}\n",
      "{'Date': '', 'St': 'AKH', 'P_Fa': 'ep-', 'P_Time': '51:11.4', 'SFa': '', 'S_Time': '', 'S_P': '', 'Sour_T': '50:11.4', 'EpH': '335', 'EpR': '335', 'T_p': '', 'T_s': '', 'T_S': '', 'Ns_1': '', 'Ns_2': '', 'Ew_1': '', 'Ew_2': '', 'Z': '', 'K': '', 'Mpv': '', 'MLH': '', 'Comment': ''}\n",
      "{'Date': '', 'St': 'TI2', 'P_Fa': '', 'P_Time': '', 'SFa': 'es-', 'S_Time': '51:35.0', 'S_P': '', 'Sour_T': '50:08.4', 'EpH': '330', 'EpR': '335', 'T_p': '', 'T_s': '', 'T_S': '', 'Ns_1': '', 'Ns_2': '', 'Ew_1': '', 'Ew_2': '', 'Z': '', 'K': '', 'Mpv': '', 'MLH': '', 'Comment': ''}\n",
      "{'Metadata': 'F=44 25=44.42N  L=42 50=42.83E'}\n",
      "{'Date': '01.07.92', 'St': 'AKH', 'P_Fa': 'ep-', 'P_Time': '06:42:52.2', 'SFa': 'is-', 'S_Time': '42:55.2', 'S_P': '3.0', 'Sour_T': '42:48.0', 'EpH': '23', 'EpR': '', 'T_p': '0.2', 'T_s': '0.2', 'T_S': '', 'Ns_1': '0.05', 'Ns_2': '', 'Ew_1': '', 'Ew_2': '', 'Z': '0.01', 'K': '5.5', 'Mpv': '2.4', 'MLH': '', 'Comment': ''}\n",
      "{'Date': '', 'St': 'BGD', 'P_Fa': '', 'P_Time': '', 'SFa': 'es', 'S_Time': '42:51.0', 'S_P': '', 'Sour_T': '', 'EpH': '', 'EpR': '', 'T_p': '', 'T_s': '', 'T_S': '', 'Ns_1': '', 'Ns_2': '', 'Ew_1': '', 'Ew_2': '', 'Z': '', 'K': '', 'Mpv': '', 'MLH': '', 'Comment': ''}\n",
      "{'Date': '01.07.92', 'St': 'TI2', 'P_Fa': '+ip-', 'P_Time': '12:26:21.2', 'SFa': 'is-', 'S_Time': '26:27.8', 'S_P': '6.6', 'Sour_T': '26:11.7', 'EpH': '52', 'EpR': '55', 'T_p': '0.2', 'T_s': '0.4', 'T_S': '', 'Ns_1': '0.05', 'Ns_2': '', 'Ew_1': '', 'Ew_2': '', 'Z': '0.03', 'K': '7.0', 'Mpv': '3.4', 'MLH': '', 'Comment': ''}\n",
      "{'Date': '', 'St': 'BGD', 'P_Fa': 'ep-', 'P_Time': '26:25.4', 'SFa': 'es-', 'S_Time': '26:34.6', 'S_P': '9.2', 'Sour_T': '26:12.3', 'EpH': '71', 'EpR': '70', 'T_p': '0.3', 'T_s': '0.6', 'T_S': '', 'Ns_1': '', 'Ns_2': '', 'Ew_1': '0.04', 'Ew_2': '', 'Z': '0.02', 'K': '7.0', 'Mpv': '3.2', 'MLH': '', 'Comment': ''}\n",
      "{'Date': '', 'St': 'AKH', 'P_Fa': 'ep-', 'P_Time': '26:26.2', 'SFa': 'is-', 'S_Time': '26:36.2', 'S_P': '10.0', 'Sour_T': '26:12.1', 'EpH': '77', 'EpR': '75', 'T_p': '0.2', 'T_s': '0.3', 'T_S': '', 'Ns_1': '', 'Ns_2': '', 'Ew_1': '0.03', 'Ew_2': '', 'Z': '0.03', 'K': '7.2', 'Mpv': '3.6', 'MLH': '', 'Comment': ''}\n",
      "{'Date': '', 'St': 'BKR', 'P_Fa': 'ep-', 'P_Time': '26:29.0', 'SFa': 'is-', 'S_Time': '26:41.0', 'S_P': '12.0', 'Sour_T': '26:11.9', 'EpH': '93', 'EpR': '90', 'T_p': '', 'T_s': '1.0', 'T_S': '', 'Ns_1': '', 'Ns_2': '', 'Ew_1': '0.02', 'Ew_2': '', 'Z': '', 'K': '6.6', 'Mpv': '', 'MLH': '', 'Comment': ''}\n",
      "{'Date': '', 'St': 'DUS', 'P_Fa': 'ep-', 'P_Time': '26:29.4', 'SFa': '', 'S_Time': '', 'S_P': '', 'Sour_T': '26:11.8', 'EpH': '95', 'EpR': '90', 'T_p': '', 'T_s': '', 'T_S': '', 'Ns_1': '', 'Ns_2': '', 'Ew_1': '', 'Ew_2': '', 'Z': '', 'K': '', 'Mpv': '', 'MLH': '', 'Comment': ''}\n",
      "{'Date': '', 'St': 'BRO', 'P_Fa': '', 'P_Time': '', 'SFa': '', 'S_Time': '', 'S_P': '', 'Sour_T': '', 'EpH': '', 'EpR': '130', 'T_p': '', 'T_s': '', 'T_S': '', 'Ns_1': '', 'Ns_2': '', 'Ew_1': '', 'Ew_2': '', 'Z': '', 'K': '', 'Mpv': '', 'MLH': '', 'Comment': 'e:12 26 57.0'}\n",
      "{'Date': '', 'St': 'ABS', 'P_Fa': 'ep-', 'P_Time': '26:39.0', 'SFa': '', 'S_Time': '', 'S_P': '', 'Sour_T': '26:12.8', 'EpH': '145', 'EpR': '140', 'T_p': '', 'T_s': '', 'T_S': '', 'Ns_1': '', 'Ns_2': '', 'Ew_1': '', 'Ew_2': '', 'Z': '', 'K': '', 'Mpv': '', 'MLH': '', 'Comment': ''}\n",
      "{'Metadata': 'F=41 18=41.30N  L=44 25=44.42E'}\n",
      "{'Date': '01.07.92', 'St': 'ONI', 'P_Fa': 'ep-', 'P_Time': '12:35:40.0', 'SFa': 'is-', 'S_Time': '35:45.0', 'S_P': '5.0', 'Sour_T': '35:32.6', 'EpH': '33', 'EpR': '30', 'T_p': '', 'T_s': '0.6', 'T_S': '', 'Ns_1': '', 'Ns_2': '0.16', 'Ew_1': '', 'Ew_2': '', 'Z': '', 'K': '6.6', 'Mpv': '', 'MLH': '', 'Comment': ''}\n",
      "{'Date': '', 'St': 'ZEI', 'P_Fa': 'ep-', 'P_Time': '35:43.0', 'SFa': 'es-', 'S_Time': '35:49.0', 'S_P': '6.0', 'Sour_T': '35:34.6', 'EpH': '40', 'EpR': '35', 'T_p': '', 'T_s': '', 'T_S': '', 'Ns_1': '', 'Ns_2': '', 'Ew_1': '', 'Ew_2': '', 'Z': '', 'K': '', 'Mpv': '', 'MLH': '', 'Comment': ''}\n",
      "{'Date': '', 'St': 'AMR', 'P_Fa': '', 'P_Time': '', 'SFa': 'es-', 'S_Time': '35:45.0', 'S_P': '', 'Sour_T': '35:34.3', 'EpH': '34', 'EpR': '40', 'T_p': '', 'T_s': '', 'T_S': '', 'Ns_1': '', 'Ns_2': '', 'Ew_1': '', 'Ew_2': '', 'Z': '', 'K': '', 'Mpv': '', 'MLH': '', 'Comment': ''}\n",
      "{'Date': '', 'St': 'BKR', 'P_Fa': '+ip-', 'P_Time': '35:49.4', 'SFa': 'is-', 'S_Time': '36:01.0', 'S_P': '11.6', 'Sour_T': '35:33.1', 'EpH': '88', 'EpR': '85', 'T_p': '0.7', 'T_s': '1.0', 'T_S': '', 'Ns_1': '0.05', 'Ns_2': '', 'Ew_1': '', 'Ew_2': '', 'Z': '0.01', 'K': '7.2', 'Mpv': '2.6', 'MLH': '', 'Comment': ''}\n",
      "{'Date': '', 'St': 'BRS', 'P_Fa': '', 'P_Time': '', 'SFa': 'es-', 'S_Time': '36:01.0', 'S_P': '', 'Sour_T': '35:32.9', 'EpH': '95', 'EpR': '95', 'T_p': '', 'T_s': '', 'T_S': '', 'Ns_1': '', 'Ns_2': '', 'Ew_1': '', 'Ew_2': '', 'Z': '', 'K': '', 'Mpv': '', 'MLH': '', 'Comment': ''}\n",
      "{'Date': '', 'St': 'ABS', 'P_Fa': 'ep-', 'P_Time': '35:52.0', 'SFa': 'is-', 'S_Time': '36:06.0', 'S_P': '14.0', 'Sour_T': '35:32.2', 'EpH': '108', 'EpR': '115', 'T_p': '', 'T_s': '0.2', 'T_S': '', 'Ns_1': '', 'Ns_2': '', 'Ew_1': '0.02', 'Ew_2': '', 'Z': '', 'K': '6.7', 'Mpv': '', 'MLH': '', 'Comment': ''}\n",
      "{'Metadata': 'F=42 27=42.45N  L=43 47=43.78E'}\n",
      "{'Date': '01.07.92', 'St': 'BGD', 'P_Fa': 'ep-', 'P_Time': '20:48:43.8', 'SFa': 'is-', 'S_Time': '48:48.8', 'S_P': '5.0', 'Sour_T': '48:36.8', 'EpH': '39', 'EpR': '', 'T_p': '0.2', 'T_s': '0.3', 'T_S': '', 'Ns_1': '', 'Ns_2': '', 'Ew_1': '0.09', 'Ew_2': '', 'Z': '0.03', 'K': '7.0', 'Mpv': '3.1', 'MLH': '', 'Comment': ''}\n",
      "{'Date': '*', 'St': 'AKH', 'P_Fa': 'ep-', 'P_Time': '48:46.6', 'SFa': 'is-', 'S_Time': '48:53.6', 'S_P': '7.0', 'Sour_T': '48:36.5', 'EpH': '55', 'EpR': '', 'T_p': '', 'T_s': '0.3', 'T_S': '', 'Ns_1': '0.05', 'Ns_2': '', 'Ew_1': '', 'Ew_2': '', 'Z': '', 'K': '6.5', 'Mpv': '', 'MLH': '', 'Comment': ''}\n",
      "{'Date': '01.07.92', 'St': 'BGD', 'P_Fa': 'ep-', 'P_Time': '21:29:39.4', 'SFa': 's-', 'S_Time': '29:42.4', 'S_P': '3.0', 'Sour_T': '29:33.2', 'EpH': '23', 'EpR': '', 'T_p': '0.2', 'T_s': '0.3', 'T_S': '', 'Ns_1': '0.02', 'Ns_2': '', 'Ew_1': '0.02', 'Ew_2': '', 'Z': '0.01', 'K': '4.9', 'Mpv': '2.3', 'MLH': '', 'Comment': ''}\n",
      "{'Date': '*', 'St': 'AKH', 'P_Fa': '', 'P_Time': '', 'SFa': 'es-', 'S_Time': '29:42.4', 'S_P': '', 'Sour_T': '', 'EpH': '', 'EpR': '', 'T_p': '', 'T_s': '0.4', 'T_S': '', 'Ns_1': '', 'Ns_2': '', 'Ew_1': '0.02', 'Ew_2': '', 'Z': '', 'K': '', 'Mpv': '', 'MLH': '', 'Comment': ''}\n",
      "{'Date': '02.07.92', 'St': 'TRL', 'P_Fa': 'ip-', 'P_Time': '05:26:51.0', 'SFa': 'is-', 'S_Time': '26:53.0', 'S_P': '2.0', 'Sour_T': '26:48.2', 'EpH': '15', 'EpR': '15', 'T_p': '', 'T_s': '', 'T_S': '', 'Ns_1': '', 'Ns_2': '', 'Ew_1': '', 'Ew_2': '', 'Z': '', 'K': '', 'Mpv': '', 'MLH': '', 'Comment': ''}\n",
      "{'Date': '', 'St': 'BGD', 'P_Fa': 'ep-', 'P_Time': '26:56.0', 'SFa': 'is-', 'S_Time': '27:01.4', 'S_P': '5.4', 'Sour_T': '26:48.3', 'EpH': '42', 'EpR': '40', 'T_p': '', 'T_s': '0.2', 'T_S': '', 'Ns_1': '', 'Ns_2': '', 'Ew_1': '0.08', 'Ew_2': '', 'Z': '', 'K': '6.4', 'Mpv': '', 'MLH': '', 'Comment': ''}\n",
      "{'Date': '', 'St': 'AKH', 'P_Fa': 'ep-', 'P_Time': '26:56.6', 'SFa': 'is-', 'S_Time': '27:02.8', 'S_P': '6.2', 'Sour_T': '26:47.6', 'EpH': '49', 'EpR': '50', 'T_p': '0.2', 'T_s': '0.2', 'T_S': '', 'Ns_1': '', 'Ns_2': '', 'Ew_1': '0.08', 'Ew_2': '', 'Z': '0.03', 'K': '7.0', 'Mpv': '3.2', 'MLH': '', 'Comment': ''}\n",
      "{'Metadata': 'F=41 25=41.42N  L=44 04=44.07E'}\n"
     ]
    }
   ],
   "source": [
    "parsed_data = parse_data_from_file(\"199207_copy\")\n",
    "\n",
    "# Print the parsed data (for inspection)\n",
    "for entry in parsed_data:\n",
    "    print(entry)"
   ]
  }
 ],
 "metadata": {
  "kernelspec": {
   "display_name": "env",
   "language": "python",
   "name": "python3"
  },
  "language_info": {
   "codemirror_mode": {
    "name": "ipython",
    "version": 3
   },
   "file_extension": ".py",
   "mimetype": "text/x-python",
   "name": "python",
   "nbconvert_exporter": "python",
   "pygments_lexer": "ipython3",
   "version": "3.10.12"
  }
 },
 "nbformat": 4,
 "nbformat_minor": 2
}
